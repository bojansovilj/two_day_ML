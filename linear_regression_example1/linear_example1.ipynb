{
 "cells": [
  {
   "cell_type": "markdown",
   "metadata": {},
   "source": [
    "### Linear Regression Example 1"
   ]
  },
  {
   "cell_type": "markdown",
   "metadata": {},
   "source": [
    "Linear regression is the most basic example for machine learning.\n",
    "With learning linear regression terms and principles one will understand all neccessary concepts that are used in more advanced techniques tose terms are: Cost Function, Gradient Descent, Overfitting, Training and Test errors..."
   ]
  },
  {
   "cell_type": "markdown",
   "metadata": {},
   "source": [
    "Our first example is number of citizens in randomly choosen city. Please do not think about this example as real machine learning case. Only goal of this example is to become familiar with basic mathemtatics of linear regression and how we can program it without any machine learning tool. After this excercise you will hopefully understand why we need all those machine learning libraries."
   ]
  },
  {
   "cell_type": "code",
   "execution_count": 1,
   "metadata": {},
   "outputs": [],
   "source": [
    "# To ensure that everybody can read example file after pulling from github:\n",
    "import os\n",
    "dir_path = os.getcwd()"
   ]
  },
  {
   "cell_type": "code",
   "execution_count": 2,
   "metadata": {},
   "outputs": [],
   "source": [
    "#this lines will import data set needed for regression\n",
    "import pandas as pd\n",
    "df1 = pd.read_csv(dir_path + '/' + 'citypopulation.csv')"
   ]
  },
  {
   "cell_type": "code",
   "execution_count": 3,
   "metadata": {
    "scrolled": true
   },
   "outputs": [
    {
     "name": "stdout",
     "output_type": "stream",
     "text": [
      "    year  population\n",
      "0   2000     1014004\n",
      "1   2001     1029991\n",
      "2   2002     1045845\n",
      "3   2003     1049700\n",
      "4   2004     1065071\n",
      "5   2005     1080264\n",
      "6   2006     1095352\n",
      "7   2007     1129866\n",
      "8   2008     1147996\n",
      "9   2009     1166079\n",
      "10  2010     1173108\n",
      "11  2011     1189173\n",
      "12  2012     1205074\n"
     ]
    }
   ],
   "source": [
    "#print data set in terminal to see data\n",
    "print(df1)"
   ]
  },
  {
   "cell_type": "code",
   "execution_count": 4,
   "metadata": {},
   "outputs": [],
   "source": [
    "import matplotlib.pyplot as plt"
   ]
  },
  {
   "cell_type": "code",
   "execution_count": 5,
   "metadata": {},
   "outputs": [
    {
     "data": {
      "image/png": "[encoded data removed]",
      "text/plain": [
       "<Figure size 432x288 with 1 Axes>"
      ]
     },
     "metadata": {
      "needs_background": "light"
     },
     "output_type": "display_data"
    }
   ],
   "source": [
    "plt.scatter(df1['year'], df1['population'])\n",
    "plt.show()"
   ]
  },
  {
   "cell_type": "markdown",
   "metadata": {},
   "source": [
    "Let's construct line without having any advanced library."
   ]
  },
  {
   "cell_type": "code",
   "execution_count": 6,
   "metadata": {},
   "outputs": [],
   "source": [
    "#From formula given in slides we saw something like 1/n*sum(Z)\n",
    "#where Z is array of numbers. In statistics and ML this is called mean.\n",
    "#Function bellow will return mean of array\n",
    "\n",
    "def mean_sums(vector):\n",
    "    n = len(vector)\n",
    "    vector_sum = sum(vector)\n",
    "    return vector_sum/n\n"
   ]
  },
  {
   "cell_type": "code",
   "execution_count": 7,
   "metadata": {},
   "outputs": [],
   "source": [
    "#Using formula from slides and func mean sums we can calculate coefficient 'a' \n",
    "#in lin regression example\n",
    "def coeff_a(x, y):\n",
    "    nominator = 0\n",
    "    for i in range(len(x)): \n",
    "        nominator += (x[i]-mean_sums(x))*(y[i]-mean_sums(y))\n",
    "    denominator = 0\n",
    "    for i in range(len(x)):\n",
    "        denominator += (x[i] - mean_sums(x))**2\n",
    "    return nominator / denominator"
   ]
  },
  {
   "cell_type": "code",
   "execution_count": 8,
   "metadata": {},
   "outputs": [],
   "source": [
    "#Using formula from slides and func mean sums we can calculate coefficient 'b' \n",
    "#in lin regression example\n",
    "def coeff_b(x,y):\n",
    "    return mean_sums(y)-coeff_a(df1['year'],df1['population'])*mean_sums(x)"
   ]
  },
  {
   "cell_type": "code",
   "execution_count": 14,
   "metadata": {},
   "outputs": [
    {
     "name": "stdout",
     "output_type": "stream",
     "text": [
      "16571.26923076923\n",
      "-32134925.846153844\n"
     ]
    }
   ],
   "source": [
    "#This lines will calculate and print values of a and b\n",
    "a = coeff_a(df1['year'],df1['population'])\n",
    "b = coeff_b(df1['year'],df1['population'])\n",
    "print(a)\n",
    "print(b)"
   ]
  },
  {
   "cell_type": "code",
   "execution_count": 15,
   "metadata": {},
   "outputs": [],
   "source": [
    "#After calculating a and b we can construct a function\n",
    "predicted_value_function = lambda x: a*x + b"
   ]
  },
  {
   "cell_type": "code",
   "execution_count": 16,
   "metadata": {},
   "outputs": [
    {
     "data": {
      "image/png": "[encoded data removed]",
      "text/plain": [
       "<Figure size 432x288 with 1 Axes>"
      ]
     },
     "metadata": {
      "needs_background": "light"
     },
     "output_type": "display_data"
    }
   ],
   "source": [
    "#Lets show plots for our results\n",
    "xfit, yfit = (min(df1['year']), max(df1['year'])), (predicted_value_function(min(df1['year'])), predicted_value_function(max(df1['year'])))\n",
    "plt.scatter(df1['year'], df1['population'])\n",
    "plt.plot(xfit,yfit,color = 'red')\n",
    "plt.show()"
   ]
  },
  {
   "cell_type": "markdown",
   "metadata": {},
   "source": [
    "Exercise - Predict number of citizens for 2020. and 2025."
   ]
  },
  {
   "cell_type": "code",
   "execution_count": null,
   "metadata": {},
   "outputs": [],
   "source": [
    "# Code here\n"
   ]
  },
  {
   "cell_type": "code",
   "execution_count": null,
   "metadata": {},
   "outputs": [],
   "source": [
    "# and now Machine Learning lirary! :\n",
    "from scipy import stats\n",
    "\n",
    "a_1,b_1,r,p,std_err = stats.linregress(df1['year'],df1['population'])\n"
   ]
  },
  {
   "cell_type": "code",
   "execution_count": null,
   "metadata": {},
   "outputs": [],
   "source": [
    "print(a,a_1)\n",
    "print(b,b_1)\n",
    "print(std_err)"
   ]
  },
  {
   "cell_type": "markdown",
   "metadata": {},
   "source": [
    "Well this is pretty much all about it. Go back to slides!"
   ]
  }
 ],
 "metadata": {
  "kernelspec": {
   "display_name": "Python 3",
   "language": "python",
   "name": "python3"
  },
  "language_info": {
   "codemirror_mode": {
    "name": "ipython",
    "version": 3
   },
   "file_extension": ".py",
   "mimetype": "text/x-python",
   "name": "python",
   "nbconvert_exporter": "python",
   "pygments_lexer": "ipython3",
   "version": "3.7.1"
  }
 },
 "nbformat": 4,
 "nbformat_minor": 2
}
