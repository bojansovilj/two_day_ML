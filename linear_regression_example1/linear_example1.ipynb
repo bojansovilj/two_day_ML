{
 "cells": [
  {
   "cell_type": "markdown",
   "metadata": {},
   "source": [
    "### Linear Regression Example"
   ]
  },
  {
   "cell_type": "markdown",
   "metadata": {},
   "source": [
    "Linear regression is the most basic example for machine learning.\n",
    "With learning linear regression terms and principles one will understand all neccessary concepts that are used in more advanced techniques tose terms are: Cost Function, Gradient Descent, Overfitting, Training and Test errors..."
   ]
  },
  {
   "cell_type": "markdown",
   "metadata": {},
   "source": [
    "Our first example is number of citizens in randomly choosen city. Please do not think about this example as real machine learning case. Only goal of this example is to become familiar with basic mathemtatics of linear regression and how we can program it without any machine learning tool. After this excercise you will hopefully understand why we need all those machine learning libraries."
   ]
  },
  {
   "cell_type": "code",
   "execution_count": null,
   "metadata": {},
   "outputs": [],
   "source": [
    "# To ensure that everybody can read example file after pulling from github:\n",
    "import os\n",
    "dir_path = os.getcwd()"
   ]
  },
  {
   "cell_type": "code",
   "execution_count": null,
   "metadata": {},
   "outputs": [],
   "source": [
    "#this lines will import data set needed for regression\n",
    "import pandas as pd\n",
    "df1 = pd.read_csv(dir_path + '/' + 'citypopulation.csv')"
   ]
  },
  {
   "cell_type": "code",
   "execution_count": null,
   "metadata": {
    "scrolled": true
   },
   "outputs": [],
   "source": [
    "#print data set in terminal to see data\n",
    "print(df1)"
   ]
  },
  {
   "cell_type": "code",
   "execution_count": null,
   "metadata": {},
   "outputs": [],
   "source": [
    "import matplotlib.pyplot as plt"
   ]
  },
  {
   "cell_type": "code",
   "execution_count": null,
   "metadata": {},
   "outputs": [],
   "source": [
    "plt.scatter(df1['year'], df1['population'])\n",
    "plt.show()"
   ]
  },
  {
   "cell_type": "markdown",
   "metadata": {},
   "source": [
    "Let's construct line without having any advanced library."
   ]
  },
  {
   "cell_type": "code",
   "execution_count": null,
   "metadata": {},
   "outputs": [],
   "source": [
    "def mean_sums(vector):\n",
    "    n = len(vector)\n",
    "    vector_sum = sum(vector)\n",
    "    return vector_sum/n\n"
   ]
  },
  {
   "cell_type": "code",
   "execution_count": null,
   "metadata": {},
   "outputs": [],
   "source": [
    "def coeff_a(x, y):\n",
    "    nominator = 0\n",
    "    for i in range(len(x)): \n",
    "        nominator += (x[i]-mean_sums(x))*(y[i]-mean_sums(y))\n",
    "    denominator = 0\n",
    "    for i in range(len(x)):\n",
    "        denominator += (x[i] - mean_sums(x))**2\n",
    "    return nominator / denominator"
   ]
  },
  {
   "cell_type": "code",
   "execution_count": null,
   "metadata": {},
   "outputs": [],
   "source": [
    "def coeff_b(x,y):\n",
    "    return mean_sums(y)-coeff_a(df1['year'],df1['population'])*mean_sums(x)"
   ]
  },
  {
   "cell_type": "code",
   "execution_count": null,
   "metadata": {},
   "outputs": [],
   "source": [
    "a = coeff_a(df1['year'],df1['population'])\n",
    "b = coeff_b(df1['year'], df1['population'])"
   ]
  },
  {
   "cell_type": "code",
   "execution_count": null,
   "metadata": {},
   "outputs": [],
   "source": [
    "print(a)\n",
    "print(b)"
   ]
  },
  {
   "cell_type": "code",
   "execution_count": null,
   "metadata": {},
   "outputs": [],
   "source": [
    "f = lambda x: a*x + b"
   ]
  },
  {
   "cell_type": "code",
   "execution_count": null,
   "metadata": {},
   "outputs": [],
   "source": [
    "xfit, yfit = (min(df1['year']), max(df1['year'])), (f(min(df1['year'])), f(max(df1['year'])))\n",
    "plt.scatter(df1['year'], df1['population'])\n",
    "plt.plot(xfit,yfit,color = 'red')\n",
    "plt.show()"
   ]
  },
  {
   "cell_type": "code",
   "execution_count": null,
   "metadata": {},
   "outputs": [],
   "source": [
    "print(f(2019))"
   ]
  }
 ],
 "metadata": {
  "kernelspec": {
   "display_name": "Python 3",
   "language": "python",
   "name": "python3"
  },
  "language_info": {
   "codemirror_mode": {
    "name": "ipython",
    "version": 3
   },
   "file_extension": ".py",
   "mimetype": "text/x-python",
   "name": "python",
   "nbconvert_exporter": "python",
   "pygments_lexer": "ipython3",
   "version": "3.7.1"
  }
 },
 "nbformat": 4,
 "nbformat_minor": 2
}
