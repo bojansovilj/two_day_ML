{
 "cells": [
  {
   "cell_type": "markdown",
   "metadata": {},
   "source": [
    "### Linear Regression Example"
   ]
  },
  {
   "cell_type": "markdown",
   "metadata": {},
   "source": [
    "Linear regression is the most basic example for machine learning.\n",
    "With learning linear regression terms and principles one will understand all neccessary concepts that are used in more advanced techniques tose terms are: Cost Function, Gradient Descent, Overfitting, Training and Test errors..."
   ]
  },
  {
   "cell_type": "markdown",
   "metadata": {},
   "source": [
    "Our first example is number of citizens in randomly choosen city. Please do not think about this example as real machine learning case. Only goal of this example is to become familiar with basic mathemtatics of linear regression and how we can program it without any machine learning tool. After this excercise you will hopefully understand why we need all those machine learning libraries."
   ]
  },
  {
   "cell_type": "code",
   "execution_count": 1,
   "metadata": {},
   "outputs": [],
   "source": [
    "import os\n",
    "dir_path = os.getcwd()"
   ]
  },
  {
   "cell_type": "code",
   "execution_count": 2,
   "metadata": {},
   "outputs": [],
   "source": [
    "#this lines will import data set needed for regression\n",
    "import pandas as pd\n",
    "df1 = pd.read_csv(dir_path + '/' + 'citypopulation.csv')"
   ]
  },
  {
   "cell_type": "code",
   "execution_count": 3,
   "metadata": {
    "scrolled": true
   },
   "outputs": [
    {
     "name": "stdout",
     "output_type": "stream",
     "text": [
      "    year  population\n",
      "0   2000     1014004\n",
      "1   2001     1029991\n",
      "2   2002     1045845\n",
      "3   2003     1049700\n",
      "4   2004     1065071\n",
      "5   2005     1080264\n",
      "6   2006     1095352\n",
      "7   2007     1129866\n",
      "8   2008     1147996\n",
      "9   2009     1166079\n",
      "10  2010     1173108\n",
      "11  2011     1189173\n",
      "12  2012     1205074\n"
     ]
    }
   ],
   "source": [
    "#print data set in terminal to see data\n",
    "print(df1)"
   ]
  },
  {
   "cell_type": "code",
   "execution_count": 4,
   "metadata": {},
   "outputs": [],
   "source": [
    "import matplotlib.pyplot as plt"
   ]
  },
  {
   "cell_type": "code",
   "execution_count": 5,
   "metadata": {},
   "outputs": [
    {
     "data": {
      "image/png": "[encoded data removed]",
      "text/plain": [
       "<Figure size 432x288 with 1 Axes>"
      ]
     },
     "metadata": {
      "needs_background": "light"
     },
     "output_type": "display_data"
    }
   ],
   "source": [
    "plt.scatter(df1['year'], df1['population'])\n",
    "plt.show()"
   ]
  },
  {
   "cell_type": "code",
   "execution_count": null,
   "metadata": {},
   "outputs": [],
   "source": []
  }
 ],
 "metadata": {
  "kernelspec": {
   "display_name": "Python 3",
   "language": "python",
   "name": "python3"
  },
  "language_info": {
   "codemirror_mode": {
    "name": "ipython",
    "version": 3
   },
   "file_extension": ".py",
   "mimetype": "text/x-python",
   "name": "python",
   "nbconvert_exporter": "python",
   "pygments_lexer": "ipython3",
   "version": "3.7.1"
  }
 },
 "nbformat": 4,
 "nbformat_minor": 2
}
